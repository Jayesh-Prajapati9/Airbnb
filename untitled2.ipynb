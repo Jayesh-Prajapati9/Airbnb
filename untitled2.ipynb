{
 "cells": [
  {
   "cell_type": "code",
   "execution_count": 10,
   "metadata": {},
   "outputs": [
    {
     "name": "stdout",
     "output_type": "stream",
     "text": [
      "42\n",
      "44\n",
      "7\n",
      "7\n",
      "44\n"
     ]
    },
    {
     "ename": "ValueError",
     "evalue": "invalid whence (3, should be 0, 1 or 2)",
     "output_type": "error",
     "traceback": [
      "\u001b[1;31m---------------------------------------------------------------------------\u001b[0m",
      "\u001b[1;31mValueError\u001b[0m                                Traceback (most recent call last)",
      "\u001b[1;32m<ipython-input-10-032b38a0c772>\u001b[0m in \u001b[0;36m<module>\u001b[1;34m\u001b[0m\n\u001b[0;32m      9\u001b[0m \u001b[0mf\u001b[0m\u001b[1;33m.\u001b[0m\u001b[0mseek\u001b[0m\u001b[1;33m(\u001b[0m\u001b[1;36m0\u001b[0m\u001b[1;33m,\u001b[0m\u001b[1;36m2\u001b[0m\u001b[1;33m)\u001b[0m\u001b[1;33m\u001b[0m\u001b[1;33m\u001b[0m\u001b[0m\n\u001b[0;32m     10\u001b[0m \u001b[0mprint\u001b[0m\u001b[1;33m(\u001b[0m\u001b[0mf\u001b[0m\u001b[1;33m.\u001b[0m\u001b[0mtell\u001b[0m\u001b[1;33m(\u001b[0m\u001b[1;33m)\u001b[0m\u001b[1;33m)\u001b[0m\u001b[1;33m\u001b[0m\u001b[1;33m\u001b[0m\u001b[0m\n\u001b[1;32m---> 11\u001b[1;33m \u001b[0mf\u001b[0m\u001b[1;33m.\u001b[0m\u001b[0mseek\u001b[0m\u001b[1;33m(\u001b[0m\u001b[1;36m0\u001b[0m\u001b[1;33m,\u001b[0m\u001b[1;36m3\u001b[0m\u001b[1;33m)\u001b[0m\u001b[1;33m\u001b[0m\u001b[1;33m\u001b[0m\u001b[0m\n\u001b[0m\u001b[0;32m     12\u001b[0m \u001b[0mprint\u001b[0m\u001b[1;33m(\u001b[0m\u001b[0mf\u001b[0m\u001b[1;33m.\u001b[0m\u001b[0mtell\u001b[0m\u001b[1;33m(\u001b[0m\u001b[1;33m)\u001b[0m\u001b[1;33m)\u001b[0m\u001b[1;33m\u001b[0m\u001b[1;33m\u001b[0m\u001b[0m\n\u001b[0;32m     13\u001b[0m \u001b[1;31m##ERRORS\u001b[0m\u001b[1;33m\u001b[0m\u001b[1;33m\u001b[0m\u001b[1;33m\u001b[0m\u001b[0m\n",
      "\u001b[1;31mValueError\u001b[0m: invalid whence (3, should be 0, 1 or 2)"
     ]
    }
   ],
   "source": [
    "f=open('python1.txt','a+')\n",
    "print(f.tell())\n",
    "f.write('Hi')\n",
    "print(f.tell())\n",
    "f.seek(7,0)\n",
    "print(f.tell())\n",
    "f.seek(0,1)\n",
    "print(f.tell())\n",
    "f.seek(0,2)\n",
    "print(f.tell())\n",
    "f.seek(0,3)\n",
    "print(f.tell())\n",
    "##ERRORS\n",
    "f.seek(7,1)\n",
    "print(f.tell())\n"
   ]
  },
  {
   "cell_type": "code",
   "execution_count": 15,
   "metadata": {},
   "outputs": [
    {
     "name": "stdout",
     "output_type": "stream",
     "text": [
      "Hii\n",
      "Hello\n",
      "WELCOME\n",
      "Hii\n",
      "Hello\n",
      "WELCOME\n",
      "\n",
      "True\n"
     ]
    }
   ],
   "source": [
    "with open(\"abcd.txt\",\"r\")as f:\n",
    "    print(f.read())\n",
    "print(f.closed)"
   ]
  },
  {
   "cell_type": "code",
   "execution_count": 28,
   "metadata": {},
   "outputs": [
    {
     "name": "stdout",
     "output_type": "stream",
     "text": [
      "B6 is best in python\n",
      "\n",
      "B6 is best in DE\n",
      "\n",
      "B6 is best in python\n",
      "\n",
      "B6 is good in python\n"
     ]
    }
   ],
   "source": [
    "f=open('uvw.txt')\n",
    "for line in f:\n",
    "        print(line)\n",
    "        "
   ]
  },
  {
   "cell_type": "code",
   "execution_count": 29,
   "metadata": {},
   "outputs": [
    {
     "name": "stdout",
     "output_type": "stream",
     "text": [
      "B6\n",
      "is\n",
      "good\n",
      "in\n",
      "python\n"
     ]
    }
   ],
   "source": [
    "f=open('uvw.txt')\n",
    "for word in line.split():\n",
    "     print(word)"
   ]
  },
  {
   "cell_type": "code",
   "execution_count": 30,
   "metadata": {},
   "outputs": [
    {
     "name": "stdout",
     "output_type": "stream",
     "text": [
      "B6 is best in python\n",
      "\n",
      "B6\n",
      "is\n",
      "best\n",
      "in\n",
      "python\n",
      "B6 is best in DE\n",
      "\n",
      "B6\n",
      "is\n",
      "best\n",
      "in\n",
      "DE\n",
      "B6 is best in python\n",
      "\n",
      "B6\n",
      "is\n",
      "best\n",
      "in\n",
      "python\n",
      "B6 is good in python\n",
      "B6\n",
      "is\n",
      "good\n",
      "in\n",
      "python\n"
     ]
    }
   ],
   "source": [
    "f=open('uvw.txt')\n",
    "for line in f:\n",
    "        print(line)\n",
    "        for word in line.split():\n",
    "               print(word)"
   ]
  },
  {
   "cell_type": "code",
   "execution_count": 40,
   "metadata": {},
   "outputs": [
    {
     "name": "stdout",
     "output_type": "stream",
     "text": [
      "['B6', 'is', 'best', 'in', 'python']\n",
      "B6\n",
      "is\n",
      "best\n",
      "in\n",
      "python\n",
      "['B6', 'is', 'best', 'in', 'DE']\n",
      "B6\n",
      "is\n",
      "best\n",
      "in\n",
      "DE\n",
      "['B6', 'is', 'best', 'in', 'python']\n",
      "B6\n",
      "is\n",
      "best\n",
      "in\n",
      "python\n",
      "['B6', 'is', 'good', 'in', 'python']\n",
      "B6\n",
      "is\n",
      "good\n",
      "in\n",
      "python\n",
      "4\n",
      "20\n"
     ]
    }
   ],
   "source": [
    "##TO COUNT THE WORD AND LINES\n",
    "f=open('uvw.txt')\n",
    "linecount,wordcount=0,0\n",
    "for line in f:\n",
    "        print(line.split())\n",
    "        linecount+=1\n",
    "        for word in line.split():\n",
    "                    print(word)\n",
    "                    wordcount+=1\n",
    "                 \n",
    "               \n",
    "print(linecount)\n",
    "print(wordcount)\n",
    "                "
   ]
  },
  {
   "cell_type": "code",
   "execution_count": 41,
   "metadata": {},
   "outputs": [
    {
     "name": "stdout",
     "output_type": "stream",
     "text": [
      "20\n",
      "0\n"
     ]
    }
   ],
   "source": [
    "f=open('uvw.txt')\n",
    "print(len(f.read().split()))\n",
    "print(len(f.readlines()))"
   ]
  },
  {
   "cell_type": "code",
   "execution_count": 50,
   "metadata": {},
   "outputs": [
    {
     "name": "stdout",
     "output_type": "stream",
     "text": [
      "line 2\n",
      "col 7\n",
      "line 3\n",
      "col 15\n"
     ]
    }
   ],
   "source": [
    "##TO FIND THE difference between 2 lines in 2 different files\n",
    "f=open('xyz.txt')\n",
    "f1=open('uvw.txt')\n",
    "l1=f.readlines()\n",
    "l2=f1.readlines()\n",
    "for i in range(len(l1)):\n",
    "    if l1[1]!=l2[i]:\n",
    "        for j in range(len(l1[i])):\n",
    "            if l1[i][j]!=l2[i][j]:\n",
    "                print('line',i+1)\n",
    "                print('col',j+1)\n",
    "        "
   ]
  },
  {
   "cell_type": "code",
   "execution_count": 1,
   "metadata": {},
   "outputs": [],
   "source": [
    "##Jya pan # hooy tya thi delete thai jaay e file maathi \n",
    "f1=open('xyz.txt')\n",
    "f2=open('abc.txt','w')\n",
    "for line in f1:\n",
    "    if '#'not in line:\n",
    "        f2.write(line)\n",
    "    else:\n",
    "        if line.find('#')==0:\n",
    "                continue\n",
    "        else:\n",
    "            a=line.find('#')\n",
    "            f2.write(line[0:a]+\"\\n\")\n",
    "f1.close()\n",
    "f2.close()"
   ]
  },
  {
   "cell_type": "code",
   "execution_count": 6,
   "metadata": {},
   "outputs": [
    {
     "name": "stdout",
     "output_type": "stream",
     "text": [
      "paragraphs.\n",
      "coherent,\n",
      "sentences\n",
      "organized\n",
      "paragraph\n"
     ]
    }
   ],
   "source": [
    "##5 longest word of file\n",
    "f=open('longest.txt')\n",
    "l=f.read().split()\n",
    "l=list(set(l))\n",
    "l.sort(key=lambda x:len(x),reverse=True)\n",
    "for i in range(5):\n",
    "    print(l[i])\n",
    "f.close()"
   ]
  },
  {
   "cell_type": "code",
   "execution_count": 7,
   "metadata": {},
   "outputs": [
    {
     "name": "stdout",
     "output_type": "stream",
     "text": [
      "paragraphs.\n",
      "coherent,\n",
      "sentences\n",
      "organized\n",
      "paragraph\n"
     ]
    }
   ],
   "source": [
    "##2 nd method##5 longest word of file\n",
    "f=open('longest.txt')\n",
    "l=[]\n",
    "for line in f:\n",
    "    for word in line.split():\n",
    "        l.append(word)\n",
    "l=list(set(l))\n",
    "l.sort(key=lambda x:len(x),reverse=True)\n",
    "for i in range(5):\n",
    "    print(l[i])\n",
    "    "
   ]
  },
  {
   "cell_type": "code",
   "execution_count": 10,
   "metadata": {},
   "outputs": [],
   "source": [
    "##MIMP code\n",
    "##Ek line ma 80 character hoovu joie and word pn akho ajj avvo joie\n",
    "f=open('longest.txt')\n",
    "l=f.read().split(' ')\n",
    "f1=open('abc.txt','w')\n",
    "c=0\n",
    "for i in l:\n",
    "    if(c+len(i)<=80):\n",
    "        f1.write(i+' ')\n",
    "    else:\n",
    "        f1.write('\\n'+i+' ')\n",
    "        c=0\n",
    "    c+=len(i)+1\n",
    "f.close()\n",
    "f1.close()\n"
   ]
  },
  {
   "cell_type": "code",
   "execution_count": 11,
   "metadata": {},
   "outputs": [
    {
     "name": "stdout",
     "output_type": "stream",
     "text": [
      "77\n"
     ]
    }
   ],
   "source": [
    "print(len(\"A paragraph is a series of sentences that are organized and coherent, and are\"))"
   ]
  }
 ],
 "metadata": {
  "kernelspec": {
   "display_name": "Python 3",
   "language": "python",
   "name": "python3"
  },
  "language_info": {
   "codemirror_mode": {
    "name": "ipython",
    "version": 3
   },
   "file_extension": ".py",
   "mimetype": "text/x-python",
   "name": "python",
   "nbconvert_exporter": "python",
   "pygments_lexer": "ipython3",
   "version": "3.8.5"
  }
 },
 "nbformat": 4,
 "nbformat_minor": 4
}
