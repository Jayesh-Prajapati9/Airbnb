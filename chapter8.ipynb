{
 "cells": [
  {
   "cell_type": "code",
   "execution_count": 1,
   "metadata": {},
   "outputs": [
    {
     "ename": "AttributeError",
     "evalue": "'list' object has no attribute 'upper'",
     "output_type": "error",
     "traceback": [
      "\u001b[1;31m---------------------------------------------------------------------------\u001b[0m",
      "\u001b[1;31mAttributeError\u001b[0m                            Traceback (most recent call last)",
      "\u001b[1;32m<ipython-input-1-a3553cd136be>\u001b[0m in \u001b[0;36m<module>\u001b[1;34m\u001b[0m\n\u001b[0;32m      1\u001b[0m \u001b[0mL\u001b[0m\u001b[1;33m=\u001b[0m\u001b[1;33m[\u001b[0m\u001b[1;36m1\u001b[0m\u001b[1;33m,\u001b[0m\u001b[1;36m2\u001b[0m\u001b[1;33m,\u001b[0m\u001b[1;36m3\u001b[0m\u001b[1;33m]\u001b[0m\u001b[1;33m\u001b[0m\u001b[1;33m\u001b[0m\u001b[0m\n\u001b[1;32m----> 2\u001b[1;33m \u001b[0mL\u001b[0m\u001b[1;33m.\u001b[0m\u001b[0mupper\u001b[0m\u001b[1;33m(\u001b[0m\u001b[1;33m)\u001b[0m\u001b[1;33m\u001b[0m\u001b[1;33m\u001b[0m\u001b[0m\n\u001b[0m",
      "\u001b[1;31mAttributeError\u001b[0m: 'list' object has no attribute 'upper'"
     ]
    }
   ],
   "source": [
    "L=[1,2,3]\n",
    "L.upper()"
   ]
  },
  {
   "cell_type": "code",
   "execution_count": 2,
   "metadata": {},
   "outputs": [
    {
     "name": "stdout",
     "output_type": "stream",
     "text": [
      "<class 'function'>\n"
     ]
    }
   ],
   "source": [
    "def add():\n",
    "    return'fu'\n",
    "print(type(add))"
   ]
  },
  {
   "cell_type": "code",
   "execution_count": 3,
   "metadata": {},
   "outputs": [
    {
     "name": "stdout",
     "output_type": "stream",
     "text": [
      "1986211774208\n",
      "1986211801152\n"
     ]
    }
   ],
   "source": [
    "L=[1,2,3]\n",
    "print(id(L))\n",
    "print(id([1,2,3]))"
   ]
  },
  {
   "cell_type": "code",
   "execution_count": null,
   "metadata": {},
   "outputs": [],
   "source": [
    "encapu-security\n",
    "data \n",
    "inher-code reusability\n",
    "poly-new data type"
   ]
  },
  {
   "cell_type": "code",
   "execution_count": 4,
   "metadata": {},
   "outputs": [
    {
     "name": "stdout",
     "output_type": "stream",
     "text": [
      "2457880619136\n",
      "2457880619136\n"
     ]
    }
   ],
   "source": [
    "class Lj:\n",
    "    def __init__(self):\n",
    "        self.name='vishal'\n",
    "        self.grade=10\n",
    "obj1=Lj()\n",
    "obj2=Lj()\n",
    "print(id(obj1))\n",
    "print(id(obj1))\n"
   ]
  },
  {
   "cell_type": "code",
   "execution_count": 5,
   "metadata": {},
   "outputs": [
    {
     "data": {
      "text/plain": [
       "'vishal'"
      ]
     },
     "execution_count": 5,
     "metadata": {},
     "output_type": "execute_result"
    }
   ],
   "source": [
    "obj1.name"
   ]
  },
  {
   "cell_type": "code",
   "execution_count": null,
   "metadata": {},
   "outputs": [
    {
     "name": "stdout",
     "output_type": "stream",
     "text": [
      "dhruvi\n",
      "100\n",
      "dhruvi\n"
     ]
    }
   ],
   "source": [
    "class Lj:\n",
    "    def __init__(self):\n",
    "        self.name='vishal'\n",
    "        self.grade=10\n",
    "        self.set()\n",
    "    def set(self):\n",
    "        self.name=input()\n",
    "        self.grade=int(input())\n",
    "o1=Lj() \n",
    "print(o1.name)\n",
    "o1.set()\n",
    "print(o1.name)"
   ]
  },
  {
   "cell_type": "code",
   "execution_count": 4,
   "metadata": {},
   "outputs": [
    {
     "name": "stdout",
     "output_type": "stream",
     "text": [
      "vishal\n",
      "10\n",
      "VHA\n",
      "10\n"
     ]
    }
   ],
   "source": [
    "class Lj:\n",
    "    def __init__(self,name,grade):\n",
    "        self.name=name\n",
    "        self.grade=grade\n",
    "    def set(self):\n",
    "        self.name=input()\n",
    "        self.grade=int(input())\n",
    "o1=Lj('vishal',10) \n",
    "print(o1.name)\n",
    "print(o1.grade)\n",
    "o2=Lj('VHA',10) \n",
    "print(o2.name)\n",
    "print(o2.grade)"
   ]
  },
  {
   "cell_type": "code",
   "execution_count": 6,
   "metadata": {},
   "outputs": [
    {
     "name": "stdout",
     "output_type": "stream",
     "text": [
      "11\n"
     ]
    }
   ],
   "source": [
    "class Lj:\n",
    "    def __init__(self,name,grade):\n",
    "        self.name=name\n",
    "        self.grade=grade\n",
    "    def set(self,number):\n",
    "        self.grade+=number\n",
    "        print(self.grade)\n",
    "s1=Lj('VHA',8)\n",
    "s1.set(3)"
   ]
  },
  {
   "cell_type": "code",
   "execution_count": 8,
   "metadata": {},
   "outputs": [
    {
     "name": "stdout",
     "output_type": "stream",
     "text": [
      "3\n"
     ]
    }
   ],
   "source": [
    "class Lj:\n",
    "    def set(self,number):\n",
    "        print(number)\n",
    "s1=Lj()\n",
    "s1.set(3)"
   ]
  },
  {
   "cell_type": "code",
   "execution_count": 11,
   "metadata": {},
   "outputs": [
    {
     "name": "stdout",
     "output_type": "stream",
     "text": [
      "2432684336512\n",
      "2432684336512\n"
     ]
    },
    {
     "ename": "TypeError",
     "evalue": "set() takes 1 positional argument but 2 were given",
     "output_type": "error",
     "traceback": [
      "\u001b[1;31m---------------------------------------------------------------------------\u001b[0m",
      "\u001b[1;31mTypeError\u001b[0m                                 Traceback (most recent call last)",
      "\u001b[1;32m<ipython-input-11-d4407a45ad9c>\u001b[0m in \u001b[0;36m<module>\u001b[1;34m\u001b[0m\n\u001b[0;32m      9\u001b[0m \u001b[0ms1\u001b[0m\u001b[1;33m=\u001b[0m\u001b[0mLj\u001b[0m\u001b[1;33m(\u001b[0m\u001b[1;34m'VHA'\u001b[0m\u001b[1;33m,\u001b[0m\u001b[1;34m'11'\u001b[0m\u001b[1;33m)\u001b[0m\u001b[1;33m\u001b[0m\u001b[1;33m\u001b[0m\u001b[0m\n\u001b[0;32m     10\u001b[0m \u001b[0mprint\u001b[0m\u001b[1;33m(\u001b[0m\u001b[0mid\u001b[0m\u001b[1;33m(\u001b[0m\u001b[0ms1\u001b[0m\u001b[1;33m)\u001b[0m\u001b[1;33m)\u001b[0m\u001b[1;33m\u001b[0m\u001b[1;33m\u001b[0m\u001b[0m\n\u001b[1;32m---> 11\u001b[1;33m \u001b[0ms1\u001b[0m\u001b[1;33m.\u001b[0m\u001b[0mset\u001b[0m\u001b[1;33m(\u001b[0m\u001b[1;36m5\u001b[0m\u001b[1;33m)\u001b[0m\u001b[1;33m\u001b[0m\u001b[1;33m\u001b[0m\u001b[0m\n\u001b[0m\u001b[0;32m     12\u001b[0m \u001b[0ms2\u001b[0m\u001b[1;33m=\u001b[0m\u001b[0mLj\u001b[0m\u001b[1;33m(\u001b[0m\u001b[1;34m'VBY'\u001b[0m\u001b[1;33m,\u001b[0m\u001b[1;34m'16'\u001b[0m\u001b[1;33m)\u001b[0m\u001b[1;33m\u001b[0m\u001b[1;33m\u001b[0m\u001b[0m\n\u001b[0;32m     13\u001b[0m \u001b[0ms1\u001b[0m\u001b[1;33m.\u001b[0m\u001b[0mset\u001b[0m\u001b[1;33m(\u001b[0m\u001b[0mid\u001b[0m\u001b[1;33m(\u001b[0m\u001b[0ms2\u001b[0m\u001b[1;33m)\u001b[0m\u001b[1;33m)\u001b[0m\u001b[1;33m\u001b[0m\u001b[1;33m\u001b[0m\u001b[0m\n",
      "\u001b[1;31mTypeError\u001b[0m: set() takes 1 positional argument but 2 were given"
     ]
    }
   ],
   "source": [
    "class Lj:\n",
    "    def __init__(self,name,grade):\n",
    "        self.name=name\n",
    "        self.grade=grade\n",
    "        print(id(self))\n",
    "    def set(number):\n",
    "         print(number)\n",
    "       \n",
    "s1=Lj('VHA','11')\n",
    "print(id(s1))\n",
    "s1.set(5)\n",
    "s2=Lj('VBY','16')\n",
    "s1.set(id(s2))"
   ]
  },
  {
   "cell_type": "code",
   "execution_count": 18,
   "metadata": {},
   "outputs": [
    {
     "name": "stdout",
     "output_type": "stream",
     "text": [
      "{'name': 'v', 'grade': 10}\n",
      "{'name': 'H', 'grade': 9}\n",
      "{'name': 'vishal', 'grade': 10}\n",
      "{'name': 'vishal', 'grade': 10, 'age': 25}\n",
      "{'name': 'H', 'grade': 9}\n"
     ]
    }
   ],
   "source": [
    "##new out.....................\n",
    "class Lj:\n",
    "    def __init__(self,name,grade):\n",
    "        self.name=name\n",
    "        self.grade=grade\n",
    "    def set(self,number):\n",
    "        print(number)\n",
    "s1=Lj('v',10)\n",
    "print(s1.__dict__)\n",
    "s2=Lj('H',9)\n",
    "print(s2.__dict__)\n",
    "s1.name='vishal'\n",
    "print(s1.__dict__)\n",
    "s1.age=25\n",
    "print(s1.__dict__)\n",
    "print(s2.__dict__)\n",
    "\n"
   ]
  },
  {
   "cell_type": "code",
   "execution_count": 20,
   "metadata": {},
   "outputs": [],
   "source": [
    "class Vishal:\n",
    "    movie='Pushpa'\n",
    "    def __init__(self,bud,rev):\n",
    "        self.bud=bud\n",
    "        self.rev=rev\n",
    "    def set(self):\n",
    "        print(self.movie)"
   ]
  },
  {
   "cell_type": "code",
   "execution_count": 33,
   "metadata": {},
   "outputs": [
    {
     "name": "stdout",
     "output_type": "stream",
     "text": [
      "Pushpa2\n",
      "1000\n",
      "{'bud': 1000, 'rev': 2000}\n",
      "pushpa2\n",
      "50\n",
      "{'bud': 50, 'rev': 2000, 'movie': 'pushpa2'}\n",
      "Pushpa2\n",
      "Pushpa2\n",
      "Pushpa2\n"
     ]
    }
   ],
   "source": [
    "o=Vishal(10,20)\n",
    "print(o.movie)\n",
    "print(o.bud)\n",
    "print(o.__dict__)\n",
    "o.bud=50\n",
    "o.movie='pushpa2'\n",
    "print(o.movie)\n",
    "print(o.bud)\n",
    "print(o.__dict__)\n",
    "print(Vishal.movie)\n",
    "Vishal.movie='Pushpa2'\n",
    "print(Vishal.movie)\n",
    "o1=Vishal(70,80)\n",
    "print(o1.movie)\n"
   ]
  },
  {
   "cell_type": "code",
   "execution_count": 35,
   "metadata": {},
   "outputs": [
    {
     "name": "stdout",
     "output_type": "stream",
     "text": [
      "class B3 is created\n",
      "HII\n"
     ]
    },
    {
     "ename": "NameError",
     "evalue": "name 'V' is not defined",
     "output_type": "error",
     "traceback": [
      "\u001b[1;31m---------------------------------------------------------------------------\u001b[0m",
      "\u001b[1;31mNameError\u001b[0m                                 Traceback (most recent call last)",
      "\u001b[1;32m<ipython-input-35-081511c55c26>\u001b[0m in \u001b[0;36m<module>\u001b[1;34m\u001b[0m\n\u001b[0;32m      9\u001b[0m \u001b[0mV\u001b[0m\u001b[1;33m.\u001b[0m\u001b[0mdisplay\u001b[0m\u001b[1;33m(\u001b[0m\u001b[1;33m)\u001b[0m\u001b[1;33m\u001b[0m\u001b[1;33m\u001b[0m\u001b[0m\n\u001b[0;32m     10\u001b[0m \u001b[1;32mdel\u001b[0m \u001b[0mV\u001b[0m\u001b[1;33m\u001b[0m\u001b[1;33m\u001b[0m\u001b[0m\n\u001b[1;32m---> 11\u001b[1;33m \u001b[0mV\u001b[0m\u001b[1;33m.\u001b[0m\u001b[0mdisplay\u001b[0m\u001b[1;33m(\u001b[0m\u001b[1;33m)\u001b[0m\u001b[1;33m\u001b[0m\u001b[1;33m\u001b[0m\u001b[0m\n\u001b[0m",
      "\u001b[1;31mNameError\u001b[0m: name 'V' is not defined"
     ]
    }
   ],
   "source": [
    "##DESTRUCTOR\n",
    "##only for mcq\n",
    "class Vishal:\n",
    "    def __init__(self):\n",
    "        print('class B3 is created')\n",
    "    def __def__(self):\n",
    "        print('class B3 is deleted')\n",
    "    def display(self):\n",
    "        print('HII')\n",
    "V=Vishal()\n",
    "V.display()\n",
    "del V\n",
    "V.display()"
   ]
  },
  {
   "cell_type": "code",
   "execution_count": 38,
   "metadata": {},
   "outputs": [
    {
     "name": "stdout",
     "output_type": "stream",
     "text": [
      "1\n",
      "4\n",
      "9\n",
      "16\n",
      "25\n",
      "36\n",
      "49\n",
      "64\n",
      "81\n",
      "100\n"
     ]
    }
   ],
   "source": [
    "##GENERATOR\n",
    "def square(num):\n",
    "    for i in range(1,num+1):\n",
    "        yield i**2\n",
    "gen=square(10)\n",
    "print(next(gen))\n",
    "print(next(gen))\n",
    "for i in gen:\n",
    "    print(i)\n",
    "    \n",
    "    "
   ]
  },
  {
   "cell_type": "code",
   "execution_count": null,
   "metadata": {},
   "outputs": [],
   "source": []
  }
 ],
 "metadata": {
  "kernelspec": {
   "display_name": "Python 3",
   "language": "python",
   "name": "python3"
  },
  "language_info": {
   "codemirror_mode": {
    "name": "ipython",
    "version": 3
   },
   "file_extension": ".py",
   "mimetype": "text/x-python",
   "name": "python",
   "nbconvert_exporter": "python",
   "pygments_lexer": "ipython3",
   "version": "3.8.5"
  }
 },
 "nbformat": 4,
 "nbformat_minor": 4
}
