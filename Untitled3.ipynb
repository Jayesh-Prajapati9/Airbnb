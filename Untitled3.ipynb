{
 "cells": [
  {
   "cell_type": "code",
   "execution_count": 11,
   "metadata": {},
   "outputs": [
    {
     "name": "stdout",
     "output_type": "stream",
     "text": [
      "stephen.marquard@uct.ac.za\n",
      "louis@media.berkeley.edu\n",
      "zqian@umich.edu\n",
      "rjlowe@iupui.edu\n",
      "zqian@umich.edu\n",
      "rjlowe@iupui.edu\n",
      "cwen@iupui.edu\n",
      "cwen@iupui.edu\n",
      "gsilver@umich.edu\n",
      "gsilver@umich.edu\n",
      "zqian@umich.edu\n",
      "gsilver@umich.edu\n",
      "wagnermr@iupui.edu\n",
      "zqian@umich.edu\n",
      "antranig@caret.cam.ac.uk\n",
      "gopal.ramasammycook@gmail.com\n",
      "david.horwitz@uct.ac.za\n",
      "david.horwitz@uct.ac.za\n",
      "david.horwitz@uct.ac.za\n",
      "david.horwitz@uct.ac.za\n",
      "stephen.marquard@uct.ac.za\n",
      "louis@media.berkeley.edu\n",
      "louis@media.berkeley.edu\n",
      "ray@media.berkeley.edu\n",
      "cwen@iupui.edu\n",
      "cwen@iupui.edu\n",
      "cwen@iupui.edu\n",
      "total count is27\n"
     ]
    }
   ],
   "source": [
    "f=open('mbox-short.txt')\n",
    "count=0\n",
    "for line in f:\n",
    "    if line.startswith('From '):\n",
    "        words=line.split(\" \")\n",
    "        mail=words[1]\n",
    "        print(mail)\n",
    "    count+=1\n",
    "print(f\"total count is{count}\")"
   ]
  },
  {
   "cell_type": "code",
   "execution_count": 26,
   "metadata": {},
   "outputs": [
    {
     "name": "stdout",
     "output_type": "stream",
     "text": [
      "{'stephen.marquard@uct.ac.za': 2, 'louis@media.berkeley.edu': 3, 'zqian@umich.edu': 4, 'rjlowe@iupui.edu': 2, 'cwen@iupui.edu': 5, 'gsilver@umich.edu': 3, 'wagnermr@iupui.edu': 1, 'antranig@caret.cam.ac.uk': 1, 'gopal.ramasammycook@gmail.com': 1, 'david.horwitz@uct.ac.za': 4, 'ray@media.berkeley.edu': 1}\n",
      "[('stephen.marquard@uct.ac.za', 2), ('louis@media.berkeley.edu', 3), ('zqian@umich.edu', 4), ('rjlowe@iupui.edu', 2), ('cwen@iupui.edu', 5), ('gsilver@umich.edu', 3), ('wagnermr@iupui.edu', 1), ('antranig@caret.cam.ac.uk', 1), ('gopal.ramasammycook@gmail.com', 1), ('david.horwitz@uct.ac.za', 4), ('ray@media.berkeley.edu', 1)]\n",
      "[('cwen@iupui.edu', 5), ('zqian@umich.edu', 4), ('david.horwitz@uct.ac.za', 4), ('louis@media.berkeley.edu', 3), ('gsilver@umich.edu', 3), ('stephen.marquard@uct.ac.za', 2), ('rjlowe@iupui.edu', 2), ('wagnermr@iupui.edu', 1), ('antranig@caret.cam.ac.uk', 1), ('gopal.ramasammycook@gmail.com', 1), ('ray@media.berkeley.edu', 1)]\n",
      "cwen@iupui.edu > 5\n"
     ]
    }
   ],
   "source": [
    "f=open('mbox-short.txt')\n",
    "d={}\n",
    "final_d={}\n",
    "count=0\n",
    "for line in f:\n",
    "    if line.startswith('From '):\n",
    "        words=line.split(\" \")\n",
    "        mail=words[1]\n",
    "        d[mail]=d.get(mail,0)+1\n",
    "print(d)\n",
    "final_d=dict(sorted(d.items(),key=lambda x: x[1],reverse=True))\n",
    "print(final_d)"
   ]
  },
  {
   "cell_type": "code",
   "execution_count": 2,
   "metadata": {},
   "outputs": [
    {
     "name": "stdout",
     "output_type": "stream",
     "text": [
      "{'04': 3, '06': 1, '07': 1, '09': 2, '10': 3, '11': 6, '14': 1, '15': 2, '16': 4, '17': 2, '18': 1, '19': 1}\n"
     ]
    }
   ],
   "source": [
    "f=open(\"mbox-short.txt\")\n",
    "count=0\n",
    "d={}\n",
    "for line in f:\n",
    "    if line.startswith(\"From \"):\n",
    "        l=line.split()\n",
    "        time=l[5][0:2]\n",
    "        d[time]=d.get(time,0)+1\n",
    "final_d=dict(sorted(d.items()))\n",
    "print(final_d)\n",
    "    "
   ]
  },
  {
   "cell_type": "code",
   "execution_count": 36,
   "metadata": {},
   "outputs": [
    {
     "name": "stdout",
     "output_type": "stream",
     "text": [
      "{'09': 2, '18': 1, '16': 4, '15': 2, '14': 1, '11': 6, '10': 3, '07': 1, '06': 1, '04': 3, '19': 1, '17': 2}\n",
      "[('09', 2), ('18', 1), ('16', 4), ('15', 2), ('14', 1), ('11', 6), ('10', 3), ('07', 1), ('06', 1), ('04', 3), ('19', 1), ('17', 2)]\n",
      "[('04', 3), ('06', 1), ('07', 1), ('09', 2), ('10', 3), ('11', 6), ('14', 1), ('15', 2), ('16', 4), ('17', 2), ('18', 1), ('19', 1)]\n",
      "04 3\n",
      "06 1\n",
      "07 1\n",
      "09 2\n",
      "10 3\n",
      "11 6\n",
      "14 1\n",
      "15 2\n",
      "16 4\n",
      "17 2\n",
      "18 1\n",
      "19 1\n"
     ]
    }
   ],
   "source": [
    "f=open('mbox-short.txt')\n",
    "L=[]\n",
    "count=0\n",
    "for line in f:\n",
    "    if not line.startswith('From '):\n",
    "        continue\n",
    "    L.append(line.split()[5].split(':')[0])\n",
    "d={}\n",
    "for i in L:\n",
    "    d[i]=d.get(i,0)+1\n",
    "print(d)\n",
    "k=list(d.items())\n",
    "print(k)\n",
    "k.sort()\n",
    "print(k)\n",
    "for i,j in k:\n",
    "    print(i,j)"
   ]
  },
  {
   "cell_type": "code",
   "execution_count": 69,
   "metadata": {},
   "outputs": [
    {
     "name": "stdout",
     "output_type": "stream",
     "text": [
      "0.7507185185185187\n"
     ]
    }
   ],
   "source": [
    "f=open('mbox-short.txt')\n",
    "sum=0\n",
    "count=0\n",
    "for line in f:\n",
    "    if not line.startswith('X-DSPAM-Confidence:'):\n",
    "         continue\n",
    "    sum+=float((line.split()[1]))\n",
    "    count+=1\n",
    "print(sum/count)"
   ]
  },
  {
   "cell_type": "code",
   "execution_count": 81,
   "metadata": {},
   "outputs": [
    {
     "name": "stdout",
     "output_type": "stream",
     "text": [
      "Richie 1.700000000000001\n",
      "Armstrong 1.3000000000000007\n",
      "Wirth 2.7666666666666675\n",
      "Matz 2.299999999999999\n",
      "Gosling 1.5500000000000007\n"
     ]
    }
   ],
   "source": [
    "f=open('logfile.txt')\n",
    "for line in f:\n",
    "    L=(line.split())\n",
    "    In_time=L[1].split(':')\n",
    "    In_h=int(In_time[0])+int(In_time[1])/60\n",
    "    Out_time=L[2].split(':')\n",
    "    Out_h=int(Out_time[0])+int(Out_time[1])/60\n",
    "    if(Out_h-In_h)>=1:\n",
    "        print(L[0],Out_h-In_h)"
   ]
  },
  {
   "cell_type": "code",
   "execution_count": 6,
   "metadata": {},
   "outputs": [
    {
     "name": "stdout",
     "output_type": "stream",
     "text": [
      "Enter two or three char: VHA\n",
      "Vishal H Acharya\n"
     ]
    }
   ],
   "source": [
    "f=open('namelist.txt')\n",
    "user=input(\"Enter two or three char: \")\n",
    "for line in f:\n",
    "    L=(line.split())\n",
    "    if len(user)==2:\n",
    "            if user[0]==L[0][0] and user[1]==L[-1][0]:\n",
    "                print(\" \".join(L))\n",
    "    if len(user)==3 and len(L)==3:\n",
    "        if user[0]==L[0][0]and user[1]==L[1][0] and user[2]==L[2][0]:\n",
    "            print(\" \".join(L))"
   ]
  },
  {
   "cell_type": "code",
   "execution_count": null,
   "metadata": {},
   "outputs": [],
   "source": []
  },
  {
   "cell_type": "code",
   "execution_count": null,
   "metadata": {},
   "outputs": [],
   "source": []
  }
 ],
 "metadata": {
  "kernelspec": {
   "display_name": "Python 3",
   "language": "python",
   "name": "python3"
  },
  "language_info": {
   "codemirror_mode": {
    "name": "ipython",
    "version": 3
   },
   "file_extension": ".py",
   "mimetype": "text/x-python",
   "name": "python",
   "nbconvert_exporter": "python",
   "pygments_lexer": "ipython3",
   "version": "3.12.8"
  }
 },
 "nbformat": 4,
 "nbformat_minor": 4
}
