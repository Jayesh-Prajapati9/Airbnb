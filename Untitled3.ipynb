{
 "cells": [
  {
   "cell_type": "code",
   "execution_count": 11,
   "metadata": {},
   "outputs": [
    {
     "name": "stdout",
     "output_type": "stream",
     "text": [
      "stephen.marquard@uct.ac.za\n",
      "louis@media.berkeley.edu\n",
      "zqian@umich.edu\n",
      "rjlowe@iupui.edu\n",
      "zqian@umich.edu\n",
      "rjlowe@iupui.edu\n",
      "cwen@iupui.edu\n",
      "cwen@iupui.edu\n",
      "gsilver@umich.edu\n",
      "gsilver@umich.edu\n",
      "zqian@umich.edu\n",
      "gsilver@umich.edu\n",
      "wagnermr@iupui.edu\n",
      "zqian@umich.edu\n",
      "antranig@caret.cam.ac.uk\n",
      "gopal.ramasammycook@gmail.com\n",
      "david.horwitz@uct.ac.za\n",
      "david.horwitz@uct.ac.za\n",
      "david.horwitz@uct.ac.za\n",
      "david.horwitz@uct.ac.za\n",
      "stephen.marquard@uct.ac.za\n",
      "louis@media.berkeley.edu\n",
      "louis@media.berkeley.edu\n",
      "ray@media.berkeley.edu\n",
      "cwen@iupui.edu\n",
      "cwen@iupui.edu\n",
      "cwen@iupui.edu\n",
      "total count is27\n"
     ]
    }
   ],
   "source": [
    "f=open('mbox-short.txt')\n",
    "count=0\n",
    "for line in f:\n",
    "    if line.startswith('From '):\n",
    "        words=line.split(\" \")\n",
    "        mail=words[1]\n",
    "        print(mail)\n",
    "    count+=1\n",
    "print(f\"total count is{count}\")"
   ]
  },
  {
   "cell_type": "code",
   "execution_count": null,
   "metadata": {},
   "outputs": [],
   "source": [
    "import string\n",
    "file=open(\"secretmessage.txt\",encoding=\"utf-8\")\n",
    "japanese=\"\"\n",
    "l=file.read().split()\n",
    "for i in l:\n",
    "    if (i.lower() in (\"abcdefghijklmnopqrstuvwxyz\")):\n",
    "        pass\n",
    "    else:\n",
    "        japanese+=i\n",
    "print(japanese)"
   ]
  },
  {
   "cell_type": "code",
   "execution_count": 26,
   "metadata": {},
   "outputs": [
    {
     "name": "stdout",
     "output_type": "stream",
     "text": [
      "{'stephen.marquard@uct.ac.za': 2, 'louis@media.berkeley.edu': 3, 'zqian@umich.edu': 4, 'rjlowe@iupui.edu': 2, 'cwen@iupui.edu': 5, 'gsilver@umich.edu': 3, 'wagnermr@iupui.edu': 1, 'antranig@caret.cam.ac.uk': 1, 'gopal.ramasammycook@gmail.com': 1, 'david.horwitz@uct.ac.za': 4, 'ray@media.berkeley.edu': 1}\n",
      "[('stephen.marquard@uct.ac.za', 2), ('louis@media.berkeley.edu', 3), ('zqian@umich.edu', 4), ('rjlowe@iupui.edu', 2), ('cwen@iupui.edu', 5), ('gsilver@umich.edu', 3), ('wagnermr@iupui.edu', 1), ('antranig@caret.cam.ac.uk', 1), ('gopal.ramasammycook@gmail.com', 1), ('david.horwitz@uct.ac.za', 4), ('ray@media.berkeley.edu', 1)]\n",
      "[('cwen@iupui.edu', 5), ('zqian@umich.edu', 4), ('david.horwitz@uct.ac.za', 4), ('louis@media.berkeley.edu', 3), ('gsilver@umich.edu', 3), ('stephen.marquard@uct.ac.za', 2), ('rjlowe@iupui.edu', 2), ('wagnermr@iupui.edu', 1), ('antranig@caret.cam.ac.uk', 1), ('gopal.ramasammycook@gmail.com', 1), ('ray@media.berkeley.edu', 1)]\n",
      "cwen@iupui.edu > 5\n"
     ]
    }
   ],
   "source": [
    "f=open('mbox-short.txt')\n",
    "d={}\n",
    "final_d={}\n",
    "count=0\n",
    "for line in f:\n",
    "    if line.startswith('From '):\n",
    "        words=line.split(\" \")\n",
    "        mail=words[1]\n",
    "        d[mail]=d.get(mail,0)+1\n",
    "print(d)\n",
    "final_d=dict(sorted(d.items(),key=lambda x: x[1],reverse=True))\n",
    "print(final_d)"
   ]
  },
  {
   "cell_type": "code",
   "execution_count": 2,
   "metadata": {},
   "outputs": [
    {
     "name": "stdout",
     "output_type": "stream",
     "text": [
      "{'04': 3, '06': 1, '07': 1, '09': 2, '10': 3, '11': 6, '14': 1, '15': 2, '16': 4, '17': 2, '18': 1, '19': 1}\n"
     ]
    }
   ],
   "source": [
    "f=open(\"mbox-short.txt\")\n",
    "count=0\n",
    "d={}\n",
    "for line in f:\n",
    "    if line.startswith(\"From \"):\n",
    "        l=line.split()\n",
    "        time=l[5][0:2]\n",
    "        d[time]=d.get(time,0)+1\n",
    "final_d=dict(sorted(d.items()))\n",
    "print(final_d)\n",
    "    "
   ]
  },
  {
   "cell_type": "code",
   "execution_count": 69,
   "metadata": {},
   "outputs": [
    {
     "name": "stdout",
     "output_type": "stream",
     "text": [
      "0.7507185185185187\n"
     ]
    }
   ],
   "source": [
    "f=open(\"mbox-short.txt\")\n",
    "sum=0\n",
    "count=0\n",
    "for line in f:\n",
    "    if line.startswith(\"X-DSPAM-Confidence:\"):\n",
    "        sum+=float(line[20:])\n",
    "        count+=1\n",
    "print(\"AVERAGE IS :\",sum/count)\n"
   ]
  },
  {
   "cell_type": "code",
   "execution_count": 81,
   "metadata": {},
   "outputs": [
    {
     "name": "stdout",
     "output_type": "stream",
     "text": [
      "Richie 1.700000000000001\n",
      "Armstrong 1.3000000000000007\n",
      "Wirth 2.7666666666666675\n",
      "Matz 2.299999999999999\n",
      "Gosling 1.5500000000000007\n"
     ]
    }
   ],
   "source": [
    "f=open('logfile.txt')\n",
    "for line in f:\n",
    "    L=(line.split())\n",
    "    In_time=L[1].split(':')\n",
    "    In_h=int(In_time[0])+int(In_time[1])/60\n",
    "    Out_time=L[2].split(':')\n",
    "    Out_h=int(Out_time[0])+int(Out_time[1])/60\n",
    "    if(Out_h-In_h)>=1:\n",
    "        print(L[0],Out_h-In_h)"
   ]
  },
  {
   "cell_type": "code",
   "execution_count": 6,
   "metadata": {},
   "outputs": [
    {
     "name": "stdout",
     "output_type": "stream",
     "text": [
      "Enter two or three char: VHA\n",
      "Vishal H Acharya\n"
     ]
    }
   ],
   "source": [
    "f=open('namelist.txt')\n",
    "user=input(\"Enter two or three char: \")\n",
    "for line in f:\n",
    "    L=(line.split())\n",
    "    if len(user)==2:\n",
    "            if user[0]==L[0][0] and user[1]==L[-1][0]:\n",
    "                print(\" \".join(L))\n",
    "    if len(user)==3 and len(L)==3:\n",
    "        if user[0]==L[0][0]and user[1]==L[1][0] and user[2]==L[2][0]:\n",
    "            print(\" \".join(L))"
   ]
  },
  {
   "cell_type": "code",
   "execution_count": null,
   "metadata": {},
   "outputs": [],
   "source": [
    "class MyError(Exception):\n",
    "    pass\n",
    "try:\n",
    "    a=10\n",
    "    b=20\n",
    "    c=a/b\n",
    "    print(c)\n",
    "    if c==0:\n",
    "        raise MyError(\"Division by zero is not allowed\")\n",
    "except ZeroDivisionError:\n",
    "    print(\"Division by zero is not allowed\")\n",
    "except Exception as e:\n",
    "    print(e)\n"
   ]
  },
  {
   "cell_type": "code",
   "execution_count": 6,
   "metadata": {},
   "outputs": [
    {
     "name": "stdout",
     "output_type": "stream",
     "text": [
      "1\n",
      "2\n",
      "2\n"
     ]
    }
   ],
   "source": [
    "def f():\n",
    "    try:\n",
    "        print(1)\n",
    "        return 1\n",
    "    finally:\n",
    "        print(2)\n",
    "        return 2\n",
    "print(f())"
   ]
  },
  {
   "cell_type": "code",
   "execution_count": 14,
   "metadata": {},
   "outputs": [
    {
     "name": "stdout",
     "output_type": "stream",
     "text": [
      "finally\n"
     ]
    },
    {
     "ename": "ValueError",
     "evalue": "invalid literal for int() with base 10: '5.5'",
     "output_type": "error",
     "traceback": [
      "\u001b[1;31m---------------------------------------------------------------------------\u001b[0m",
      "\u001b[1;31mValueError\u001b[0m                                Traceback (most recent call last)",
      "Cell \u001b[1;32mIn[14], line 3\u001b[0m\n\u001b[0;32m      1\u001b[0m \u001b[38;5;28;01mtry\u001b[39;00m:\n\u001b[0;32m      2\u001b[0m     a\u001b[38;5;241m=\u001b[39m\u001b[38;5;124m\"\u001b[39m\u001b[38;5;124m5.5\u001b[39m\u001b[38;5;124m\"\u001b[39m\n\u001b[1;32m----> 3\u001b[0m     a\u001b[38;5;241m=\u001b[39m\u001b[38;5;28;43mint\u001b[39;49m\u001b[43m(\u001b[49m\u001b[43ma\u001b[49m\u001b[43m)\u001b[49m\n\u001b[0;32m      4\u001b[0m     \u001b[38;5;28mprint\u001b[39m(b\u001b[38;5;241m+\u001b[39ma)\n\u001b[0;32m      6\u001b[0m \u001b[38;5;28;01mexcept\u001b[39;00m \u001b[38;5;167;01mNameError\u001b[39;00m:\n",
      "\u001b[1;31mValueError\u001b[0m: invalid literal for int() with base 10: '5.5'"
     ]
    }
   ],
   "source": [
    "try:\n",
    "    a=\"5.5\"\n",
    "    a=int(a)\n",
    "    print(b+a)\n",
    "\n",
    "except NameError:\n",
    "    print(\"Name error\")\n",
    "finally:\n",
    "    print(\"finally\")\n",
    "\n"
   ]
  },
  {
   "cell_type": "code",
   "execution_count": 5,
   "metadata": {},
   "outputs": [
    {
     "name": "stdout",
     "output_type": "stream",
     "text": [
      "division by zero\n"
     ]
    }
   ],
   "source": [
    "try:\n",
    "    a=1\n",
    "    b=7\n",
    "    c=0\n",
    "    print(d+b/c)\n",
    "except Exception as e:\n",
    "    print(e)\n"
   ]
  }
 ],
 "metadata": {
  "kernelspec": {
   "display_name": "Python 3",
   "language": "python",
   "name": "python3"
  },
  "language_info": {
   "codemirror_mode": {
    "name": "ipython",
    "version": 3
   },
   "file_extension": ".py",
   "mimetype": "text/x-python",
   "name": "python",
   "nbconvert_exporter": "python",
   "pygments_lexer": "ipython3",
   "version": "3.12.8"
  }
 },
 "nbformat": 4,
 "nbformat_minor": 4
}
