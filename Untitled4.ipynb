{
 "cells": [
  {
   "cell_type": "code",
   "execution_count": 2,
   "metadata": {},
   "outputs": [
    {
     "name": "stdout",
     "output_type": "stream",
     "text": [
      "<_io.TextIOWrapper name='wordlist.txt' mode='r' encoding='cp1252'>\n"
     ]
    }
   ],
   "source": [
    "f=open(\"wordlist.txt\")\n",
    "print(f)"
   ]
  },
  {
   "cell_type": "code",
   "execution_count": 23,
   "metadata": {},
   "outputs": [
    {
     "name": "stdout",
     "output_type": "stream",
     "text": [
      "Enter the word:vvah\n",
      "overachieve\n",
      "overachiever\n"
     ]
    }
   ],
   "source": [
    "##MIMP bauj chance che exam ma ##user can input amy letter and after that counting the frequency if frequency matched than print\n",
    "f=open(\"wordlist.txt\")\n",
    "words=f.read().split()\n",
    "user=input(\"Enter the word:\")\n",
    "u={}\n",
    "for i in user:\n",
    "    u[i]=u.get(i,0)+1\n",
    "for word in words:\n",
    "    w={}\n",
    "    flag=True\n",
    "    for i in word:\n",
    "        if i in u:\n",
    "             w[i]=w.get(i,0)+1\n",
    "    for i in u:\n",
    "        if i in w:\n",
    "            if u[i]<=w[i]:\n",
    "                continue\n",
    "        flag=False\n",
    "    if flag==True:\n",
    "         print(word)"
   ]
  },
  {
   "cell_type": "code",
   "execution_count": 25,
   "metadata": {},
   "outputs": [],
   "source": [
    "## akhi file Reverse karvani che\n",
    "f=open(\"wordlist.txt\")\n",
    "f1=open(\"file.txt\",'w')\n",
    "L=f.readlines()\n",
    "L=L[::-1]\n",
    "for i in L:\n",
    "    f1.write(i[::-1])\n"
   ]
  },
  {
   "cell_type": "code",
   "execution_count": 37,
   "metadata": {},
   "outputs": [],
   "source": [
    "##file1 mathi 1st line write karvani+file2 maathi 1st line write karvani biji ek navi file ma aavu lakhelu avvu joie  \n",
    "f1=open('no.txt')\n",
    "f2=open('no1.txt')\n",
    "f3=open('file.txt','w')\n",
    "L1=f1.readlines()\n",
    "L2=f2.readlines()\n",
    "if len(L1)>=len(L2):\n",
    "    Length=len(L1)\n",
    "else:\n",
    "    Length=len(L2)\n",
    "for i in range(0,Length):\n",
    "    if i<len(L1):\n",
    "        f3.write(L1[i])\n",
    "    if i<len(L2):\n",
    "        f3.write(L2[i])\n"
   ]
  },
  {
   "cell_type": "code",
   "execution_count": null,
   "metadata": {},
   "outputs": [],
   "source": [
    "# wta python to cpy odd lines from one file to another file\n",
    "\n",
    "\n",
    "f = open(\"alice\",\"w\")\n",
    "g = open(\"alicec\",\"r\")\n",
    "\n",
    "p = open(\"evenodd\",\"w\")\n",
    "\n",
    "\n",
    "s1 = g.readlines()\n",
    "\n",
    "\n",
    "\n",
    "\n",
    "ans1 = \"\"\n",
    "\n",
    "    \n",
    "ans = \"\"   \n",
    "for i in range(len(s1)):\n",
    "    if i %2 == 0 :\n",
    "        ans = ans + s1[i]\n",
    "    else :\n",
    "        ans1 = ans1 + s1[i]\n",
    "        \n",
    "        \n",
    "    \n",
    "p.write(ans)\n",
    "f.write(ans1)\n",
    "f.close()\n",
    "p.close()"
   ]
  },
  {
   "cell_type": "code",
   "execution_count": 40,
   "metadata": {},
   "outputs": [
    {
     "name": "stdout",
     "output_type": "stream",
     "text": [
      "D:\\Dhruvi\n"
     ]
    }
   ],
   "source": [
    "import os\n",
    "os.name\n",
    "print(os.getcwd())"
   ]
  },
  {
   "cell_type": "code",
   "execution_count": 41,
   "metadata": {},
   "outputs": [],
   "source": [
    "##to make new directory\n",
    "os.mkdir('d:\\\\python')"
   ]
  },
  {
   "cell_type": "code",
   "execution_count": 43,
   "metadata": {},
   "outputs": [],
   "source": [
    "##to change the directory\n",
    "os.chdir(\"d:\\\\python\")"
   ]
  },
  {
   "cell_type": "code",
   "execution_count": 44,
   "metadata": {},
   "outputs": [
    {
     "name": "stdout",
     "output_type": "stream",
     "text": [
      "d:\\python\n"
     ]
    }
   ],
   "source": [
    "print(os.getcwd())"
   ]
  },
  {
   "cell_type": "code",
   "execution_count": 46,
   "metadata": {},
   "outputs": [
    {
     "data": {
      "text/plain": [
       "['!qhlogs.doc',\n",
       " '$Recycle.Bin',\n",
       " '$WinREAgent',\n",
       " 'cfrbackup-ILUFYVFA',\n",
       " 'Documents and Settings',\n",
       " 'DumpStack.log.tmp',\n",
       " 'eula.1028.txt',\n",
       " 'eula.1031.txt',\n",
       " 'eula.1033.txt',\n",
       " 'eula.1036.txt',\n",
       " 'eula.1040.txt',\n",
       " 'eula.1041.txt',\n",
       " 'eula.1042.txt',\n",
       " 'eula.2052.txt',\n",
       " 'eula.3082.txt',\n",
       " 'globdata.ini',\n",
       " 'hiberfil.sys',\n",
       " 'inetpub',\n",
       " 'Insight Files',\n",
       " 'install.exe',\n",
       " 'install.ini',\n",
       " 'install.res.1028.dll',\n",
       " 'install.res.1031.dll',\n",
       " 'install.res.1033.dll',\n",
       " 'install.res.1036.dll',\n",
       " 'install.res.1040.dll',\n",
       " 'install.res.1041.dll',\n",
       " 'install.res.1042.dll',\n",
       " 'install.res.2052.dll',\n",
       " 'install.res.3082.dll',\n",
       " 'Intel',\n",
       " 'logs',\n",
       " 'msdia80.dll',\n",
       " 'MSOCache',\n",
       " 'oraclexe',\n",
       " 'pagefile.sys',\n",
       " 'PerfLogs',\n",
       " 'Program Files',\n",
       " 'Program Files (x86)',\n",
       " 'ProgramData',\n",
       " 'Recovery',\n",
       " 'swapfile.sys',\n",
       " 'System Volume Information',\n",
       " 'temp',\n",
       " 'TurboC++',\n",
       " 'Users',\n",
       " 'vcredist.bmp',\n",
       " 'VC_RED.cab',\n",
       " 'VC_RED.MSI',\n",
       " 'Windows',\n",
       " 'xampp']"
      ]
     },
     "execution_count": 46,
     "metadata": {},
     "output_type": "execute_result"
    }
   ],
   "source": [
    "##get the list of all the files and dictionary\n",
    "os.listdir(\"C:\")"
   ]
  },
  {
   "cell_type": "code",
   "execution_count": 48,
   "metadata": {},
   "outputs": [],
   "source": [
    "##Add thai jase aa file python wala folder ma\n",
    "f1=open('v1.txt','w')\n",
    "f1.close()\n",
    "f2=open('v2.txt','w')\n",
    "f2.close()"
   ]
  },
  {
   "cell_type": "code",
   "execution_count": 49,
   "metadata": {},
   "outputs": [],
   "source": [
    "##remove thai jase aa file\n",
    "os.remove(\"D:\\\\python\\\\v1.txt\")\n"
   ]
  },
  {
   "cell_type": "code",
   "execution_count": 50,
   "metadata": {},
   "outputs": [
    {
     "ename": "PermissionError",
     "evalue": "[WinError 5] Access is denied: 'D:\\\\python'",
     "output_type": "error",
     "traceback": [
      "\u001b[1;31m---------------------------------------------------------------------------\u001b[0m",
      "\u001b[1;31mPermissionError\u001b[0m                           Traceback (most recent call last)",
      "\u001b[1;32m<ipython-input-50-efb10058a9ce>\u001b[0m in \u001b[0;36m<module>\u001b[1;34m\u001b[0m\n\u001b[0;32m      1\u001b[0m \u001b[1;31m##we can't remove folder\u001b[0m\u001b[1;33m\u001b[0m\u001b[1;33m\u001b[0m\u001b[1;33m\u001b[0m\u001b[0m\n\u001b[1;32m----> 2\u001b[1;33m \u001b[0mos\u001b[0m\u001b[1;33m.\u001b[0m\u001b[0mremove\u001b[0m\u001b[1;33m(\u001b[0m\u001b[1;34m\"D:\\\\python\"\u001b[0m\u001b[1;33m)\u001b[0m\u001b[1;33m\u001b[0m\u001b[1;33m\u001b[0m\u001b[0m\n\u001b[0m",
      "\u001b[1;31mPermissionError\u001b[0m: [WinError 5] Access is denied: 'D:\\\\python'"
     ]
    }
   ],
   "source": [
    "##we can't remove folder\n",
    "os.remove(\"D:\\\\python\")"
   ]
  },
  {
   "cell_type": "code",
   "execution_count": 51,
   "metadata": {},
   "outputs": [
    {
     "ename": "PermissionError",
     "evalue": "[WinError 32] The process cannot access the file because it is being used by another process: 'D:\\\\python'",
     "output_type": "error",
     "traceback": [
      "\u001b[1;31m---------------------------------------------------------------------------\u001b[0m",
      "\u001b[1;31mPermissionError\u001b[0m                           Traceback (most recent call last)",
      "\u001b[1;32m<ipython-input-51-33f8ce658fd3>\u001b[0m in \u001b[0;36m<module>\u001b[1;34m\u001b[0m\n\u001b[1;32m----> 1\u001b[1;33m \u001b[0mos\u001b[0m\u001b[1;33m.\u001b[0m\u001b[0mrmdir\u001b[0m\u001b[1;33m(\u001b[0m\u001b[1;34m\"D:\\\\python\"\u001b[0m\u001b[1;33m)\u001b[0m\u001b[1;33m\u001b[0m\u001b[1;33m\u001b[0m\u001b[0m\n\u001b[0m",
      "\u001b[1;31mPermissionError\u001b[0m: [WinError 32] The process cannot access the file because it is being used by another process: 'D:\\\\python'"
     ]
    }
   ],
   "source": [
    "##AA folder delete karva maate che pn folder empty hovu joie toooj thase delete aa syntax thi \n",
    "os.rmdir(\"D:\\\\python\")\n"
   ]
  },
  {
   "cell_type": "code",
   "execution_count": 52,
   "metadata": {},
   "outputs": [
    {
     "ename": "FileNotFoundError",
     "evalue": "[WinError 2] The system cannot find the file specified: 'D:\\\\python\\\\v2.txt'",
     "output_type": "error",
     "traceback": [
      "\u001b[1;31m---------------------------------------------------------------------------\u001b[0m",
      "\u001b[1;31mFileNotFoundError\u001b[0m                         Traceback (most recent call last)",
      "\u001b[1;32m<ipython-input-52-f4b810c88e18>\u001b[0m in \u001b[0;36m<module>\u001b[1;34m\u001b[0m\n\u001b[1;32m----> 1\u001b[1;33m \u001b[0mos\u001b[0m\u001b[1;33m.\u001b[0m\u001b[0mremove\u001b[0m\u001b[1;33m(\u001b[0m\u001b[1;34m\"D:\\\\python\\\\v2.txt\"\u001b[0m\u001b[1;33m)\u001b[0m\u001b[1;33m\u001b[0m\u001b[1;33m\u001b[0m\u001b[0m\n\u001b[0m",
      "\u001b[1;31mFileNotFoundError\u001b[0m: [WinError 2] The system cannot find the file specified: 'D:\\\\python\\\\v2.txt'"
     ]
    }
   ],
   "source": [
    "os.remove(\"D:\\\\python\\\\v2.txt\")"
   ]
  },
  {
   "cell_type": "code",
   "execution_count": null,
   "metadata": {},
   "outputs": [],
   "source": []
  }
 ],
 "metadata": {
  "kernelspec": {
   "display_name": "Python 3",
   "language": "python",
   "name": "python3"
  },
  "language_info": {
   "codemirror_mode": {
    "name": "ipython",
    "version": 3
   },
   "file_extension": ".py",
   "mimetype": "text/x-python",
   "name": "python",
   "nbconvert_exporter": "python",
   "pygments_lexer": "ipython3",
   "version": "3.8.5"
  }
 },
 "nbformat": 4,
 "nbformat_minor": 4
}
